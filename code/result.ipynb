{
 "cells": [
  {
   "cell_type": "code",
   "execution_count": 10,
   "metadata": {},
   "outputs": [],
   "source": [
    "import numpy as np\n",
    "from rdkit import Chem\n",
    "from rdkit.Chem import AllChem\n",
    "import pandas as pd\n",
    "from matplotlib import pyplot as plt\n",
    "from rdkit import Chem, DataStructs\n",
    "from rdkit.Chem import AllChem"
   ]
  },
  {
   "cell_type": "code",
   "execution_count": 11,
   "metadata": {},
   "outputs": [],
   "source": [
    "from mt_dnn import *\n",
    "model = ANN(fingerprints_size = 1024,\n",
    "                fingerprints_hidden_size = 132,\n",
    "                num_layers = 7,\n",
    "                n_tasks = 4)\n",
    "earlystop = EarlyStopping(filename=\"E:/mt-dnn/fold_save/best_model/0_43_7_132_3.17_4.5.pth\")\n",
    "earlystop.load_checkpoint(model)"
   ]
  },
  {
   "cell_type": "code",
   "execution_count": 12,
   "metadata": {},
   "outputs": [
    {
     "name": "stdout",
     "output_type": "stream",
     "text": [
      "test_accuracy:0.6883 \t test_sens:0.7749 \t test_spec:0.6018 \t test_auc:0.6644 \t test_mcc:0.3780\n",
      "test_accuracy:0.7210 \t test_sens:0.6545 \t test_spec:0.7876 \t test_auc:0.7561 \t test_mcc:0.4273\n",
      "test_accuracy:0.6954 \t test_sens:0.7801 \t test_spec:0.6106 \t test_auc:0.7750 \t test_mcc:0.3922\n",
      "test_accuracy:0.6588 \t test_sens:0.8220 \t test_spec:0.4956 \t test_auc:0.6562 \t test_mcc:0.3362\n",
      "test_accuracy:0.7357 \t test_sens:0.7016 \t test_spec:0.7699 \t test_auc:0.7625 \t test_mcc:0.4563\n"
     ]
    }
   ],
   "source": [
    "from train_mt import *\n",
    "from dataset import FingerPrintsDataset\n",
    "name = \"test_ECFP.csv\"\n",
    "test_dataset = FingerPrintsDataset(\"E:/mt-dnn/csv\", name)\n",
    "batch_size = 500\n",
    "num_workers = 2\n",
    "test_dataloader = DataLoaderX(test_dataset, batch_size, shuffle=False, num_workers=num_workers,\n",
    "                              collate_fn=collate_fn)\n",
    "test_probe = []\n",
    "test_pred = []\n",
    "for i in range(5):\n",
    "  model = ANN(fingerprints_size = 1024,\n",
    "                  fingerprints_hidden_size = 132,\n",
    "                  num_layers = 7,\n",
    "                  n_tasks = 4)\n",
    "  earlystop = EarlyStopping(filename=\"E:/mt-dnn/fold_save/best_model/{}_43_7_132_3.17_4.5.pth\".format(i))\n",
    "  earlystop.load_checkpoint(model)\n",
    "  test_true, test_probe = run_a_eval_epoch(model, test_dataloader)\n",
    "\n",
    "# metrics\n",
    "\n",
    "  test_true = np.around(np.concatenate(np.array(test_true), 0), 1).flatten()\n",
    "  test_probe = np.concatenate(np.array(test_probe), 0).flatten()\n",
    "  test_pred = np.around(test_probe, 0).flatten()\n",
    "  test_true = test_true[3::4]\n",
    "  test_probe = test_probe[3::4]\n",
    "  test_pred = test_pred[3::4]\n",
    "\n",
    "\n",
    "  test_probe = [test_probe[i] for i in range(len(test_probe)) if test_true[i] != 0.5]\n",
    "  test_pred = [test_pred[i] for i in range(len(test_pred)) if test_true[i] != 0.5]\n",
    "  test_true = [test_true[i] for i in range(len(test_true)) if test_true[i] != 0.5]\n",
    "  \n",
    "\n",
    "  test_accuracy, test_sens, test_spec, test_auc, test_mcc = balanced_accuracy_score(test_true, test_pred), \\\n",
    "                                                recall_score(test_true, test_pred), \\\n",
    "                                                recall_score(test_true, test_pred, pos_label=0), \\\n",
    "                                                roc_auc_score(test_true, test_probe), \\\n",
    "                                                matthews_corrcoef(test_true, test_pred)\n",
    "\n",
    "  print(\"test_accuracy:%.4f \\t test_sens:%.4f \\t test_spec:%.4f \\t test_auc:%.4f \\t test_mcc:%.4f\" % (test_accuracy, test_sens, test_spec, test_auc, test_mcc))"
   ]
  },
  {
   "cell_type": "code",
   "execution_count": 1,
   "metadata": {},
   "outputs": [],
   "source": [
    "# visualization of ECFP_4 fingerprint bits\n",
    "import pandas as pd\n",
    "dfd = pd.read_csv(f\"E:/mt-dnn/csv/data2.csv\",index_col=[0])"
   ]
  },
  {
   "cell_type": "code",
   "execution_count": 156,
   "metadata": {},
   "outputs": [
    {
     "name": "stdout",
     "output_type": "stream",
     "text": [
      "495\n"
     ]
    },
    {
     "data": {
      "image/png": "[encoded data removed]",
      "text/plain": [
       "<PIL.PngImagePlugin.PngImageFile image mode=RGB size=150x150>"
      ]
     },
     "execution_count": 156,
     "metadata": {},
     "output_type": "execute_result"
    }
   ],
   "source": [
    "from rdkit import Chem\n",
    "from rdkit.Chem import AllChem, DataStructs\n",
    "from rdkit.Chem.Draw import DrawMorganBits, DrawMorganBit\n",
    "for i in range(dfd.shape[0]):\n",
    "  mol = Chem.MolFromSmiles(dfd['SMILES'][i]) \n",
    "  ECFP_bitinfo = {}\n",
    "  ECFP = AllChem.GetMorganFingerprintAsBitVect(mol, radius=2, bitInfo=ECFP_bitinfo, nBits = 1024)\n",
    "  bit = 448\n",
    "  if bit in ECFP_bitinfo.keys():   \n",
    "    print(i)\n",
    "    break\n",
    "DrawMorganBit(mol, bit, ECFP_bitinfo)\n",
    "# ECFP_tuples = [(mol, bit, ECFP_bitinfo) for bit in list(ECFP_bitinfo.keys())]\n",
    "# DrawMorganBits(ECFP_tuples, molsPerRow=9, legends=list(map(str, list(ECFP_bitinfo.keys()))), useSVG=True)\n"
   ]
  }
 ],
 "metadata": {
  "interpreter": {
   "hash": "a1d957cf62454d10ebe40e78c328da3b428cee5d24f4b556ff83c673a427368e"
  },
  "kernelspec": {
   "display_name": "Python 3.8.16 ('cadd')",
   "language": "python",
   "name": "python3"
  },
  "language_info": {
   "codemirror_mode": {
    "name": "ipython",
    "version": 3
   },
   "file_extension": ".py",
   "mimetype": "text/x-python",
   "name": "python",
   "nbconvert_exporter": "python",
   "pygments_lexer": "ipython3",
   "version": "3.8.16"
  },
  "orig_nbformat": 4
 },
 "nbformat": 4,
 "nbformat_minor": 2
}
